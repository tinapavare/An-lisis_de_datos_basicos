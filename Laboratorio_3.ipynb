{
  "nbformat": 4,
  "nbformat_minor": 0,
  "metadata": {
    "colab": {
      "provenance": [],
      "authorship_tag": "ABX9TyOx1HWc8kqmieyQZvzJi0L2",
      "include_colab_link": true
    },
    "kernelspec": {
      "name": "python3",
      "display_name": "Python 3"
    },
    "language_info": {
      "name": "python"
    }
  },
  "cells": [
    {
      "cell_type": "markdown",
      "metadata": {
        "id": "view-in-github",
        "colab_type": "text"
      },
      "source": [
        "<a href=\"https://colab.research.google.com/github/tinapavare/An-lisis_de_datos_basicos/blob/main/Laboratorio_3.ipynb\" target=\"_parent\"><img src=\"https://colab.research.google.com/assets/colab-badge.svg\" alt=\"Open In Colab\"/></a>"
      ]
    },
    {
      "cell_type": "code",
      "source": [
        "from google.colab import files\n",
        "uploaded = files.upload()  # Sube el archivo desde tu computadora\n",
        "\n",
        "import pandas as pd\n",
        "df = pd.read_csv('CSV Laboratorio 3 AD-B.csv')  # Nombre del archivo ''\n",
        "\n",
        "# Ver las primeras filas para verificar la carga\n",
        "print(\"Primeras filas del archivo cargado:\")\n",
        "print(df.head(10))"
      ],
      "metadata": {
        "colab": {
          "base_uri": "https://localhost:8080/",
          "height": 292
        },
        "id": "B90XMBVlPFXo",
        "outputId": "bd8fe6cb-4bf6-4ff9-d066-c6d24dd4ba7d"
      },
      "execution_count": 2,
      "outputs": [
        {
          "output_type": "display_data",
          "data": {
            "text/plain": [
              "<IPython.core.display.HTML object>"
            ],
            "text/html": [
              "\n",
              "     <input type=\"file\" id=\"files-e85d2699-411d-4811-9eee-ad388fd5f2c8\" name=\"files[]\" multiple disabled\n",
              "        style=\"border:none\" />\n",
              "     <output id=\"result-e85d2699-411d-4811-9eee-ad388fd5f2c8\">\n",
              "      Upload widget is only available when the cell has been executed in the\n",
              "      current browser session. Please rerun this cell to enable.\n",
              "      </output>\n",
              "      <script>// Copyright 2017 Google LLC\n",
              "//\n",
              "// Licensed under the Apache License, Version 2.0 (the \"License\");\n",
              "// you may not use this file except in compliance with the License.\n",
              "// You may obtain a copy of the License at\n",
              "//\n",
              "//      http://www.apache.org/licenses/LICENSE-2.0\n",
              "//\n",
              "// Unless required by applicable law or agreed to in writing, software\n",
              "// distributed under the License is distributed on an \"AS IS\" BASIS,\n",
              "// WITHOUT WARRANTIES OR CONDITIONS OF ANY KIND, either express or implied.\n",
              "// See the License for the specific language governing permissions and\n",
              "// limitations under the License.\n",
              "\n",
              "/**\n",
              " * @fileoverview Helpers for google.colab Python module.\n",
              " */\n",
              "(function(scope) {\n",
              "function span(text, styleAttributes = {}) {\n",
              "  const element = document.createElement('span');\n",
              "  element.textContent = text;\n",
              "  for (const key of Object.keys(styleAttributes)) {\n",
              "    element.style[key] = styleAttributes[key];\n",
              "  }\n",
              "  return element;\n",
              "}\n",
              "\n",
              "// Max number of bytes which will be uploaded at a time.\n",
              "const MAX_PAYLOAD_SIZE = 100 * 1024;\n",
              "\n",
              "function _uploadFiles(inputId, outputId) {\n",
              "  const steps = uploadFilesStep(inputId, outputId);\n",
              "  const outputElement = document.getElementById(outputId);\n",
              "  // Cache steps on the outputElement to make it available for the next call\n",
              "  // to uploadFilesContinue from Python.\n",
              "  outputElement.steps = steps;\n",
              "\n",
              "  return _uploadFilesContinue(outputId);\n",
              "}\n",
              "\n",
              "// This is roughly an async generator (not supported in the browser yet),\n",
              "// where there are multiple asynchronous steps and the Python side is going\n",
              "// to poll for completion of each step.\n",
              "// This uses a Promise to block the python side on completion of each step,\n",
              "// then passes the result of the previous step as the input to the next step.\n",
              "function _uploadFilesContinue(outputId) {\n",
              "  const outputElement = document.getElementById(outputId);\n",
              "  const steps = outputElement.steps;\n",
              "\n",
              "  const next = steps.next(outputElement.lastPromiseValue);\n",
              "  return Promise.resolve(next.value.promise).then((value) => {\n",
              "    // Cache the last promise value to make it available to the next\n",
              "    // step of the generator.\n",
              "    outputElement.lastPromiseValue = value;\n",
              "    return next.value.response;\n",
              "  });\n",
              "}\n",
              "\n",
              "/**\n",
              " * Generator function which is called between each async step of the upload\n",
              " * process.\n",
              " * @param {string} inputId Element ID of the input file picker element.\n",
              " * @param {string} outputId Element ID of the output display.\n",
              " * @return {!Iterable<!Object>} Iterable of next steps.\n",
              " */\n",
              "function* uploadFilesStep(inputId, outputId) {\n",
              "  const inputElement = document.getElementById(inputId);\n",
              "  inputElement.disabled = false;\n",
              "\n",
              "  const outputElement = document.getElementById(outputId);\n",
              "  outputElement.innerHTML = '';\n",
              "\n",
              "  const pickedPromise = new Promise((resolve) => {\n",
              "    inputElement.addEventListener('change', (e) => {\n",
              "      resolve(e.target.files);\n",
              "    });\n",
              "  });\n",
              "\n",
              "  const cancel = document.createElement('button');\n",
              "  inputElement.parentElement.appendChild(cancel);\n",
              "  cancel.textContent = 'Cancel upload';\n",
              "  const cancelPromise = new Promise((resolve) => {\n",
              "    cancel.onclick = () => {\n",
              "      resolve(null);\n",
              "    };\n",
              "  });\n",
              "\n",
              "  // Wait for the user to pick the files.\n",
              "  const files = yield {\n",
              "    promise: Promise.race([pickedPromise, cancelPromise]),\n",
              "    response: {\n",
              "      action: 'starting',\n",
              "    }\n",
              "  };\n",
              "\n",
              "  cancel.remove();\n",
              "\n",
              "  // Disable the input element since further picks are not allowed.\n",
              "  inputElement.disabled = true;\n",
              "\n",
              "  if (!files) {\n",
              "    return {\n",
              "      response: {\n",
              "        action: 'complete',\n",
              "      }\n",
              "    };\n",
              "  }\n",
              "\n",
              "  for (const file of files) {\n",
              "    const li = document.createElement('li');\n",
              "    li.append(span(file.name, {fontWeight: 'bold'}));\n",
              "    li.append(span(\n",
              "        `(${file.type || 'n/a'}) - ${file.size} bytes, ` +\n",
              "        `last modified: ${\n",
              "            file.lastModifiedDate ? file.lastModifiedDate.toLocaleDateString() :\n",
              "                                    'n/a'} - `));\n",
              "    const percent = span('0% done');\n",
              "    li.appendChild(percent);\n",
              "\n",
              "    outputElement.appendChild(li);\n",
              "\n",
              "    const fileDataPromise = new Promise((resolve) => {\n",
              "      const reader = new FileReader();\n",
              "      reader.onload = (e) => {\n",
              "        resolve(e.target.result);\n",
              "      };\n",
              "      reader.readAsArrayBuffer(file);\n",
              "    });\n",
              "    // Wait for the data to be ready.\n",
              "    let fileData = yield {\n",
              "      promise: fileDataPromise,\n",
              "      response: {\n",
              "        action: 'continue',\n",
              "      }\n",
              "    };\n",
              "\n",
              "    // Use a chunked sending to avoid message size limits. See b/62115660.\n",
              "    let position = 0;\n",
              "    do {\n",
              "      const length = Math.min(fileData.byteLength - position, MAX_PAYLOAD_SIZE);\n",
              "      const chunk = new Uint8Array(fileData, position, length);\n",
              "      position += length;\n",
              "\n",
              "      const base64 = btoa(String.fromCharCode.apply(null, chunk));\n",
              "      yield {\n",
              "        response: {\n",
              "          action: 'append',\n",
              "          file: file.name,\n",
              "          data: base64,\n",
              "        },\n",
              "      };\n",
              "\n",
              "      let percentDone = fileData.byteLength === 0 ?\n",
              "          100 :\n",
              "          Math.round((position / fileData.byteLength) * 100);\n",
              "      percent.textContent = `${percentDone}% done`;\n",
              "\n",
              "    } while (position < fileData.byteLength);\n",
              "  }\n",
              "\n",
              "  // All done.\n",
              "  yield {\n",
              "    response: {\n",
              "      action: 'complete',\n",
              "    }\n",
              "  };\n",
              "}\n",
              "\n",
              "scope.google = scope.google || {};\n",
              "scope.google.colab = scope.google.colab || {};\n",
              "scope.google.colab._files = {\n",
              "  _uploadFiles,\n",
              "  _uploadFilesContinue,\n",
              "};\n",
              "})(self);\n",
              "</script> "
            ]
          },
          "metadata": {}
        },
        {
          "output_type": "stream",
          "name": "stdout",
          "text": [
            "Saving CSV Laboratorio 3 AD-B.csv to CSV Laboratorio 3 AD-B.csv\n",
            "Primeras filas del archivo cargado:\n",
            "   ID     Name    Category         City  Value        Date\n",
            "0   1  Charlie       Cat C      Chicago   46.0   4/13/2023\n",
            "1   2     Jane       Cat C      Houston   53.0  12/15/2023\n",
            "2   3     Jane  category a      Chicago   68.0   9/28/2023\n",
            "3   4     John         NaN     New York   97.0   4/17/2023\n",
            "4   5     Jane       Cat C      Houston   71.0   3/13/2023\n",
            "5   6      Eve  category a  Los Angeles   61.0    7/8/2023\n",
            "6   7     Jane  Category A      Chicago   48.0   1/21/2023\n",
            "7   8      Bob  CATEGORY B     New York   65.0   4/13/2023\n",
            "8   9      Bob  CATEGORY B  Los Angeles    NaN    5/2/2023\n",
            "9  10     Dave  CATEGORY B  Los Angeles   11.0    8/3/2023\n"
          ]
        }
      ]
    },
    {
      "cell_type": "code",
      "source": [
        "import pandas as pd\n",
        "\n",
        "# 1. Verificar valores faltantes en la columna 'City':\n",
        "\n",
        "ciudades_faltantes = df['City'].isnull().sum()\n",
        "print(f\"Número de valores faltantes en la columna 'City': {ciudades_faltantes}\")"
      ],
      "metadata": {
        "colab": {
          "base_uri": "https://localhost:8080/"
        },
        "id": "J7l-B1TGTafU",
        "outputId": "7bc8f581-4bd6-410b-b074-dc56e7b56469"
      },
      "execution_count": 3,
      "outputs": [
        {
          "output_type": "stream",
          "name": "stdout",
          "text": [
            "Número de valores faltantes en la columna 'City': 15\n"
          ]
        }
      ]
    },
    {
      "cell_type": "code",
      "source": [
        "# 2. Verificar valores duplicados en la columna 'City':\n",
        "\n",
        "# Mantener la primera ocurrencia de cada valor duplicado\n",
        "# y marcar todas las demás como True\n",
        "\n",
        "ciudades_duplicadas = df['City'][df['City'].duplicated(keep='first')].unique()\n",
        "print(f\"Ciudades duplicadas (excluyendo la primera ocurrencia): {ciudades_duplicadas}\")"
      ],
      "metadata": {
        "colab": {
          "base_uri": "https://localhost:8080/"
        },
        "id": "UlcjZVgNTq_P",
        "outputId": "8803dd5a-1aa9-4513-8cee-d97d0bf92603"
      },
      "execution_count": 4,
      "outputs": [
        {
          "output_type": "stream",
          "name": "stdout",
          "text": [
            "Ciudades duplicadas (excluyendo la primera ocurrencia): ['Chicago' 'Houston' 'New York' 'Los Angeles' nan]\n"
          ]
        }
      ]
    },
    {
      "cell_type": "code",
      "source": [
        "# 3. Obtener la frecuencia de cada ciudad en el conjunto de datos:\n",
        "frecuencia_ciudades = df['City'].value_counts()\n",
        "print(\"\\nFrecuencia de cada ciudad:\")\n",
        "print(frecuencia_ciudades)"
      ],
      "metadata": {
        "colab": {
          "base_uri": "https://localhost:8080/"
        },
        "id": "9gt_F_aPUGAC",
        "outputId": "4bde62e6-3992-4b6a-d69d-20156439eebb"
      },
      "execution_count": 5,
      "outputs": [
        {
          "output_type": "stream",
          "name": "stdout",
          "text": [
            "\n",
            "Frecuencia de cada ciudad:\n",
            "City\n",
            "Chicago        13\n",
            "Houston        13\n",
            "New York       12\n",
            "Los Angeles     7\n",
            "Name: count, dtype: int64\n"
          ]
        }
      ]
    },
    {
      "cell_type": "markdown",
      "source": [],
      "metadata": {
        "id": "9AaFDIF5we6W"
      }
    },
    {
      "cell_type": "code",
      "source": [
        "\n",
        "# Reemplazar valores nulos en la columna 'City' con 'Desconocido'\n",
        "df['City'].fillna('Desconocido', inplace=True)\n",
        "\n",
        "# Reemplazar valores nulos en todo el DataFrame con 0\n",
        "df.fillna(0, inplace=True)\n",
        "\n",
        "#display the DataFrame\n",
        "print(df)\n"
      ],
      "metadata": {
        "id": "AGVREgXoiakM",
        "colab": {
          "base_uri": "https://localhost:8080/"
        },
        "outputId": "5df51147-0b14-463f-9ed3-2fa0cdbe3a06"
      },
      "execution_count": 11,
      "outputs": [
        {
          "output_type": "stream",
          "name": "stdout",
          "text": [
            "    ID     Name    Category         City  Value        Date\n",
            "0    1  Charlie       Cat C      Chicago   46.0   4/13/2023\n",
            "1    2     Jane       Cat C      Houston   53.0  12/15/2023\n",
            "2    3     Jane  category a      Chicago   68.0   9/28/2023\n",
            "3    4     John           0     New York   97.0   4/17/2023\n",
            "4    5     Jane       Cat C      Houston   71.0   3/13/2023\n",
            "5    6      Eve  category a  Los Angeles   61.0    7/8/2023\n",
            "6    7     Jane  Category A      Chicago   48.0   1/21/2023\n",
            "7    8      Bob  CATEGORY B     New York   65.0   4/13/2023\n",
            "8    9      Bob  CATEGORY B  Los Angeles    0.0    5/2/2023\n",
            "9   10     Dave  CATEGORY B  Los Angeles   11.0    8/3/2023\n",
            "10  11      Bob       Cat C  Desconocido   96.0  11/27/2023\n",
            "11  12     Dave  Category A      Houston   10.0   3/29/2023\n",
            "12  13      Bob       Cat C      Chicago   11.0   4/10/2023\n",
            "13  14      Eve           0     New York   99.0  12/26/2023\n",
            "14  15    Grace       Cat C  Desconocido   41.0    6/1/2023\n",
            "15  16     Dave  Category A      Houston   64.0   5/11/2023\n",
            "16  17    Alice  Category A  Desconocido   26.0   5/30/2023\n",
            "17  18  Charlie           0      Houston   33.0   11/5/2023\n",
            "18  19     John  Category A      Houston   79.0   9/15/2023\n",
            "19  20      Bob  Category A      Chicago   25.0  12/10/2023\n",
            "20  21     Jane  CATEGORY B      Houston   68.0  10/21/2023\n",
            "21  22    Grace           0  Desconocido   12.0   7/11/2023\n",
            "22  23      Bob  Category B      Houston   68.0   10/4/2023\n",
            "23  24     Jane  Category B      Chicago   99.0   6/10/2023\n",
            "24  25  Charlie  Category A      Chicago   28.0  11/10/2023\n",
            "25  26  Charlie  Category B  Desconocido   80.0   1/22/2023\n",
            "26  27  Charlie  Category B  Los Angeles   42.0   9/10/2023\n",
            "27  28     Jane  Category A  Los Angeles   48.0   8/24/2023\n",
            "28  29      Bob  Category B      Houston   10.0  12/11/2023\n",
            "29  30  Charlie       Cat C     New York   66.0   2/18/2023\n",
            "30  31      Eve  category a      Houston   32.0   2/28/2023\n",
            "31  32     Dave           0  Desconocido   51.0   6/19/2023\n",
            "32  33     Jane  category a  Desconocido   25.0    7/7/2023\n",
            "33  34     Jane  Category A  Desconocido   69.0   9/28/2023\n",
            "34  35      Bob  CATEGORY B  Desconocido   10.0    7/9/2023\n",
            "35  36     Jane           0  Desconocido    0.0   6/24/2023\n",
            "36  37     Jane  Category A      Chicago   46.0   2/20/2023\n",
            "37  38  Charlie  CATEGORY B  Los Angeles   18.0  12/30/2023\n",
            "38  39      Bob  category a  Desconocido   28.0   2/24/2023\n",
            "39  40  Charlie  Category A     New York   12.0    9/1/2023\n",
            "40  41     Dave           0     New York   63.0  11/16/2023\n",
            "41  42    Grace           0     New York   33.0   5/11/2023\n",
            "42  43     Dave       Cat-C     New York   81.0   11/3/2023\n",
            "43  44    Grace       Cat C      Chicago   93.0   5/15/2023\n",
            "44  45  Charlie  Category B     New York   98.0   1/21/2023\n",
            "45  46     Dave  CATEGORY B  Desconocido   27.0  11/25/2023\n",
            "46  47      Bob       Cat-C      Houston   91.0   6/16/2023\n",
            "47  48     John  Category B     New York   44.0   10/1/2023\n",
            "48  49  Charlie  Category B      Chicago   50.0   3/30/2023\n",
            "49  50    Grace  Category A      Chicago   77.0  11/12/2023\n",
            "50  14      Eve           0     New York   99.0  12/26/2023\n",
            "51  40  Charlie  Category A     New York   12.0    9/1/2023\n",
            "52  31      Eve  category a      Houston   32.0   2/28/2023\n",
            "53  46     Dave  CATEGORY B  Desconocido   27.0  11/25/2023\n",
            "54  18  Charlie           0      Houston   33.0   11/5/2023\n",
            "55  49  Charlie  Category B      Chicago   50.0   3/30/2023\n",
            "56  27  Charlie  Category B  Los Angeles   42.0   9/10/2023\n",
            "57  26  Charlie  Category B  Desconocido   80.0   1/22/2023\n",
            "58  33     Jane  category a  Desconocido   25.0    7/7/2023\n",
            "59  20      Bob  Category A      Chicago   25.0  12/10/2023\n"
          ]
        },
        {
          "output_type": "stream",
          "name": "stderr",
          "text": [
            "<ipython-input-11-f200351173f0>:2: FutureWarning: A value is trying to be set on a copy of a DataFrame or Series through chained assignment using an inplace method.\n",
            "The behavior will change in pandas 3.0. This inplace method will never work because the intermediate object on which we are setting values always behaves as a copy.\n",
            "\n",
            "For example, when doing 'df[col].method(value, inplace=True)', try using 'df.method({col: value}, inplace=True)' or df[col] = df[col].method(value) instead, to perform the operation inplace on the original object.\n",
            "\n",
            "\n",
            "  df['City'].fillna('Desconocido', inplace=True)\n"
          ]
        }
      ]
    },
    {
      "cell_type": "code",
      "source": [
        "# Remove rows with any null values\n",
        "df.dropna(inplace=True)\n",
        "\n",
        "# Remove rows with null values in the 'City' column\n",
        "df.dropna(subset=['City'], inplace=True)\n",
        "print(df)"
      ],
      "metadata": {
        "colab": {
          "base_uri": "https://localhost:8080/"
        },
        "id": "GkVIoQcZ8iOa",
        "outputId": "2d1c3498-66b9-4726-e659-6548f0e630f2"
      },
      "execution_count": 10,
      "outputs": [
        {
          "output_type": "stream",
          "name": "stdout",
          "text": [
            "    ID     Name    Category         City  Value        Date\n",
            "0    1  Charlie       Cat C      Chicago   46.0   4/13/2023\n",
            "1    2     Jane       Cat C      Houston   53.0  12/15/2023\n",
            "2    3     Jane  category a      Chicago   68.0   9/28/2023\n",
            "3    4     John           0     New York   97.0   4/17/2023\n",
            "4    5     Jane       Cat C      Houston   71.0   3/13/2023\n",
            "5    6      Eve  category a  Los Angeles   61.0    7/8/2023\n",
            "6    7     Jane  Category A      Chicago   48.0   1/21/2023\n",
            "7    8      Bob  CATEGORY B     New York   65.0   4/13/2023\n",
            "8    9      Bob  CATEGORY B  Los Angeles    0.0    5/2/2023\n",
            "9   10     Dave  CATEGORY B  Los Angeles   11.0    8/3/2023\n",
            "10  11      Bob       Cat C  Desconocido   96.0  11/27/2023\n",
            "11  12     Dave  Category A      Houston   10.0   3/29/2023\n",
            "12  13      Bob       Cat C      Chicago   11.0   4/10/2023\n",
            "13  14      Eve           0     New York   99.0  12/26/2023\n",
            "14  15    Grace       Cat C  Desconocido   41.0    6/1/2023\n",
            "15  16     Dave  Category A      Houston   64.0   5/11/2023\n",
            "16  17    Alice  Category A  Desconocido   26.0   5/30/2023\n",
            "17  18  Charlie           0      Houston   33.0   11/5/2023\n",
            "18  19     John  Category A      Houston   79.0   9/15/2023\n",
            "19  20      Bob  Category A      Chicago   25.0  12/10/2023\n",
            "20  21     Jane  CATEGORY B      Houston   68.0  10/21/2023\n",
            "21  22    Grace           0  Desconocido   12.0   7/11/2023\n",
            "22  23      Bob  Category B      Houston   68.0   10/4/2023\n",
            "23  24     Jane  Category B      Chicago   99.0   6/10/2023\n",
            "24  25  Charlie  Category A      Chicago   28.0  11/10/2023\n",
            "25  26  Charlie  Category B  Desconocido   80.0   1/22/2023\n",
            "26  27  Charlie  Category B  Los Angeles   42.0   9/10/2023\n",
            "27  28     Jane  Category A  Los Angeles   48.0   8/24/2023\n",
            "28  29      Bob  Category B      Houston   10.0  12/11/2023\n",
            "29  30  Charlie       Cat C     New York   66.0   2/18/2023\n",
            "30  31      Eve  category a      Houston   32.0   2/28/2023\n",
            "31  32     Dave           0  Desconocido   51.0   6/19/2023\n",
            "32  33     Jane  category a  Desconocido   25.0    7/7/2023\n",
            "33  34     Jane  Category A  Desconocido   69.0   9/28/2023\n",
            "34  35      Bob  CATEGORY B  Desconocido   10.0    7/9/2023\n",
            "35  36     Jane           0  Desconocido    0.0   6/24/2023\n",
            "36  37     Jane  Category A      Chicago   46.0   2/20/2023\n",
            "37  38  Charlie  CATEGORY B  Los Angeles   18.0  12/30/2023\n",
            "38  39      Bob  category a  Desconocido   28.0   2/24/2023\n",
            "39  40  Charlie  Category A     New York   12.0    9/1/2023\n",
            "40  41     Dave           0     New York   63.0  11/16/2023\n",
            "41  42    Grace           0     New York   33.0   5/11/2023\n",
            "42  43     Dave       Cat-C     New York   81.0   11/3/2023\n",
            "43  44    Grace       Cat C      Chicago   93.0   5/15/2023\n",
            "44  45  Charlie  Category B     New York   98.0   1/21/2023\n",
            "45  46     Dave  CATEGORY B  Desconocido   27.0  11/25/2023\n",
            "46  47      Bob       Cat-C      Houston   91.0   6/16/2023\n",
            "47  48     John  Category B     New York   44.0   10/1/2023\n",
            "48  49  Charlie  Category B      Chicago   50.0   3/30/2023\n",
            "49  50    Grace  Category A      Chicago   77.0  11/12/2023\n",
            "50  14      Eve           0     New York   99.0  12/26/2023\n",
            "51  40  Charlie  Category A     New York   12.0    9/1/2023\n",
            "52  31      Eve  category a      Houston   32.0   2/28/2023\n",
            "53  46     Dave  CATEGORY B  Desconocido   27.0  11/25/2023\n",
            "54  18  Charlie           0      Houston   33.0   11/5/2023\n",
            "55  49  Charlie  Category B      Chicago   50.0   3/30/2023\n",
            "56  27  Charlie  Category B  Los Angeles   42.0   9/10/2023\n",
            "57  26  Charlie  Category B  Desconocido   80.0   1/22/2023\n",
            "58  33     Jane  category a  Desconocido   25.0    7/7/2023\n",
            "59  20      Bob  Category A      Chicago   25.0  12/10/2023\n"
          ]
        }
      ]
    },
    {
      "cell_type": "code",
      "source": [
        "# Eliminar filas duplicadas basándose en todas las columnas\n",
        "df.drop_duplicates(inplace=True)\n",
        "\n",
        "# Eliminar filas duplicadas basándose en la columna 'City'\n",
        "df.drop_duplicates(subset=['City'], keep='first', inplace=True)\n",
        "print(df)\n"
      ],
      "metadata": {
        "colab": {
          "base_uri": "https://localhost:8080/"
        },
        "id": "Obnfd9Ar--_Z",
        "outputId": "6b5d0cfc-1e9c-40b4-99b0-9f8218c125d5"
      },
      "execution_count": 14,
      "outputs": [
        {
          "output_type": "stream",
          "name": "stdout",
          "text": [
            "    ID     Name    Category         City  Value        Date\n",
            "0    1  Charlie       Cat C      Chicago   46.0   4/13/2023\n",
            "1    2     Jane       Cat C      Houston   53.0  12/15/2023\n",
            "3    4     John           0     New York   97.0   4/17/2023\n",
            "5    6      Eve  category a  Los Angeles   61.0    7/8/2023\n",
            "10  11      Bob       Cat C  Desconocido   96.0  11/27/2023\n"
          ]
        }
      ]
    },
    {
      "cell_type": "code",
      "source": [
        "# Convertir los valores de la columna 'City' a minúsculas\n",
        "df['City'] = df['City'].str.lower()\n",
        "\n",
        "# Convertir los valores de la columna 'Category' a minúsculas\n",
        "df['Category'] = df['Category'].str.lower()\n",
        "\n",
        "# Convertir los valores de la columna 'Date' al formato de fecha\n",
        "df['Date'] = pd.to_datetime(df['Date'])\n",
        "\n",
        "# Cambiar el formato de la fecha a 'AAAA/MM/DD'\n",
        "df['Date'] = df['Date'].dt.strftime('%Y/%m/%d')\n",
        "\n",
        "# Eliminar espacios al inicio y al final de los valores en la columna 'Category'\n",
        "df['Category'] = df['Category'].str.strip()\n",
        "\n",
        "# Capitalizar la primera letra de cada palabra en la columna 'Category'\n",
        "df['Category'] = df['Category'].str.title()\n",
        "\n",
        "print(df)\n",
        "\n"
      ],
      "metadata": {
        "colab": {
          "base_uri": "https://localhost:8080/"
        },
        "id": "dMqrWUrmFcF7",
        "outputId": "bdcd88a6-2087-49f4-b50c-8b98699b977f"
      },
      "execution_count": 25,
      "outputs": [
        {
          "output_type": "stream",
          "name": "stdout",
          "text": [
            "    ID     Name    Category         City  Value        Date\n",
            "0    1  Charlie       Cat C      chicago   46.0  2023/04/13\n",
            "1    2     Jane       Cat C      houston   53.0  2023/12/15\n",
            "3    4     John         NaN     new york   97.0  2023/04/17\n",
            "5    6      Eve  Category A  los angeles   61.0  2023/07/08\n",
            "10  11      Bob       Cat C  desconocido   96.0  2023/11/27\n"
          ]
        }
      ]
    },
    {
      "cell_type": "code",
      "source": [
        "# Validar el dataset limpio\n",
        "print(\"Resumen del dataset:\")\n",
        "print(df.info())  # Verifica el tipo de datos y los valores nulos\n",
        "print(\"\\nEstadísticas descriptivas:\")\n",
        "print(df.describe())  # Verifica las estadísticas numéricas del DataFrame\n",
        "print(\"\\nPrimeras filas del dataset limpio:\")\n",
        "print(df.head())  # Muestra las primeras filas del dataset para revisión visual\n",
        "\n",
        "# Verificar si quedan valores nulos\n",
        "if df.isnull().sum().sum() == 0:\n",
        "    print(\"\\nNo hay valores nulos en el dataset limpio.\")\n",
        "else:\n",
        "    print(\"\\nAún quedan valores nulos en el dataset limpio. Revisa las columnas.\")\n",
        "\n"
      ],
      "metadata": {
        "colab": {
          "base_uri": "https://localhost:8080/"
        },
        "id": "V47AtMMDNMr1",
        "outputId": "2040a2dd-8396-4cad-e78c-3241912dc062"
      },
      "execution_count": 31,
      "outputs": [
        {
          "output_type": "stream",
          "name": "stdout",
          "text": [
            "Resumen del dataset:\n",
            "<class 'pandas.core.frame.DataFrame'>\n",
            "Index: 5 entries, 0 to 10\n",
            "Data columns (total 6 columns):\n",
            " #   Column    Non-Null Count  Dtype  \n",
            "---  ------    --------------  -----  \n",
            " 0   ID        5 non-null      int64  \n",
            " 1   Name      5 non-null      object \n",
            " 2   Category  4 non-null      object \n",
            " 3   City      5 non-null      object \n",
            " 4   Value     5 non-null      float64\n",
            " 5   Date      5 non-null      object \n",
            "dtypes: float64(1), int64(1), object(4)\n",
            "memory usage: 280.0+ bytes\n",
            "None\n",
            "\n",
            "Estadísticas descriptivas:\n",
            "              ID      Value\n",
            "count   5.000000   5.000000\n",
            "mean    4.800000  70.600000\n",
            "std     3.962323  24.234273\n",
            "min     1.000000  46.000000\n",
            "25%     2.000000  53.000000\n",
            "50%     4.000000  61.000000\n",
            "75%     6.000000  96.000000\n",
            "max    11.000000  97.000000\n",
            "\n",
            "Primeras filas del dataset limpio:\n",
            "    ID     Name    Category         City  Value        Date\n",
            "0    1  Charlie       Cat C      chicago   46.0  2023/04/13\n",
            "1    2     Jane       Cat C      houston   53.0  2023/12/15\n",
            "3    4     John         NaN     new york   97.0  2023/04/17\n",
            "5    6      Eve  Category A  los angeles   61.0  2023/07/08\n",
            "10  11      Bob       Cat C  desconocido   96.0  2023/11/27\n",
            "\n",
            "Aún quedan valores nulos en el dataset limpio. Revisa las columnas.\n"
          ]
        }
      ]
    }
  ]
}